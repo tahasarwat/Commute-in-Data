{
  "nbformat": 4,
  "nbformat_minor": 0,
  "metadata": {
    "colab": {
      "provenance": []
    },
    "kernelspec": {
      "name": "python3",
      "display_name": "Python 3"
    },
    "language_info": {
      "name": "python"
    }
  },
  "cells": [
    {
      "cell_type": "code",
      "execution_count": 1,
      "metadata": {
        "colab": {
          "base_uri": "https://localhost:8080/"
        },
        "id": "E4ZBPq4Sh3-D",
        "outputId": "6eaeace3-2e01-4ade-db89-46cdad34abb8"
      },
      "outputs": [
        {
          "output_type": "stream",
          "name": "stdout",
          "text": [
            "Mounted at /content/drive\n"
          ]
        }
      ],
      "source": [
        "from google.colab import drive\n",
        "drive.mount('/content/drive')"
      ]
    },
    {
      "cell_type": "code",
      "source": [
        "import cv2\n",
        "import os\n",
        "\n",
        "# Path to the directory containing the stitched frames\n",
        "frames_directory = '/content/drive/MyDrive/CV/85_output_panoramaframes'\n",
        "\n",
        "# Output video file path\n",
        "output_video_path = '/content/drive/MyDrive/CV/output_video.mp4'\n",
        "\n",
        "# Get the list of image files in the directory\n",
        "frame_files = sorted([f for f in os.listdir(frames_directory) if f.endswith('.png')])\n",
        "\n",
        "# Read the first frame to get the dimensions\n",
        "first_frame = cv2.imread(os.path.join(frames_directory, frame_files[0]))\n",
        "height, width, _ = first_frame.shape\n",
        "\n",
        "# Define the codec and create VideoWriter object\n",
        "fourcc = cv2.VideoWriter_fourcc(*'mp4v')  # You can change the codec as needed\n",
        "out = cv2.VideoWriter(output_video_path, fourcc, 5.0, (width, height))\n",
        "\n",
        "# Write frames to the video\n",
        "for frame_file in frame_files:\n",
        "    frame_path = os.path.join(frames_directory, frame_file)\n",
        "    frame = cv2.imread(frame_path)\n",
        "    out.write(frame)\n",
        "\n",
        "# Release the VideoWriter and close all OpenCV windows\n",
        "out.release()\n",
        "cv2.destroyAllWindows()\n",
        "\n",
        "print(f\"Video saved at: {output_video_path}\")\n"
      ],
      "metadata": {
        "colab": {
          "base_uri": "https://localhost:8080/"
        },
        "id": "zMAH2yl8jI3d",
        "outputId": "1a2b6224-2bf7-4484-fe64-6d98d58e90a9"
      },
      "execution_count": 2,
      "outputs": [
        {
          "output_type": "stream",
          "name": "stdout",
          "text": [
            "Video saved at: /content/drive/MyDrive/CV/output_video.mp4\n"
          ]
        }
      ]
    }
  ]
}